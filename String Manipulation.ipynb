{
 "cells": [
  {
   "cell_type": "code",
   "execution_count": 1,
   "metadata": {},
   "outputs": [],
   "source": [
    "from sqlalchemy import create_engine\n",
    "from collections import OrderedDict\n",
    "import pandas as pd\n",
    "import numpy as np"
   ]
  },
  {
   "cell_type": "code",
   "execution_count": 2,
   "metadata": {},
   "outputs": [],
   "source": [
    "server = 'LAPTOP-5PD425U8'\n",
    "database = 'Project_UK'\n",
    "driver = 'SQL Server Native Client 11.0'\n",
    "connection = f'mssql://@{server}/{database}?driver={driver}'\n",
    "\n",
    "engine = create_engine(connection,pool_size=10, max_overflow=20)\n",
    "conn = engine.connect()"
   ]
  },
  {
   "cell_type": "code",
   "execution_count": 3,
   "metadata": {},
   "outputs": [],
   "source": [
    "query =\"\"\"SELECT * FROM [Project_UK].[dbo].[VoterID_UK]\"\"\" "
   ]
  },
  {
   "cell_type": "code",
   "execution_count": 4,
   "metadata": {},
   "outputs": [],
   "source": [
    "df = pd.read_sql_query(query, conn)"
   ]
  },
  {
   "cell_type": "code",
   "execution_count": 5,
   "metadata": {},
   "outputs": [
    {
     "data": {
      "text/html": [
       "<div>\n",
       "<style scoped>\n",
       "    .dataframe tbody tr th:only-of-type {\n",
       "        vertical-align: middle;\n",
       "    }\n",
       "\n",
       "    .dataframe tbody tr th {\n",
       "        vertical-align: top;\n",
       "    }\n",
       "\n",
       "    .dataframe thead th {\n",
       "        text-align: right;\n",
       "    }\n",
       "</style>\n",
       "<table border=\"1\" class=\"dataframe\">\n",
       "  <thead>\n",
       "    <tr style=\"text-align: right;\">\n",
       "      <th></th>\n",
       "      <th>VoterID</th>\n",
       "      <th>VoterName</th>\n",
       "      <th>RelationName</th>\n",
       "    </tr>\n",
       "  </thead>\n",
       "  <tbody>\n",
       "    <tr>\n",
       "      <th>0</th>\n",
       "      <td>UP/85/421/0042622</td>\n",
       "      <td>Mahajabi</td>\n",
       "      <td>Dilashad</td>\n",
       "    </tr>\n",
       "    <tr>\n",
       "      <th>1</th>\n",
       "      <td>UP/85/421/0042363</td>\n",
       "      <td>Jalaluddeen</td>\n",
       "      <td>Nasir Ali</td>\n",
       "    </tr>\n",
       "    <tr>\n",
       "      <th>2</th>\n",
       "      <td>UP/85/421/0042362</td>\n",
       "      <td>Aurangajeb</td>\n",
       "      <td>Nasir Ali</td>\n",
       "    </tr>\n",
       "    <tr>\n",
       "      <th>3</th>\n",
       "      <td>BQW1036607</td>\n",
       "      <td>Shahina Praveen</td>\n",
       "      <td>Aurangajeb</td>\n",
       "    </tr>\n",
       "    <tr>\n",
       "      <th>4</th>\n",
       "      <td>BQW1036581</td>\n",
       "      <td>Shajiya</td>\n",
       "      <td>Dilshad</td>\n",
       "    </tr>\n",
       "  </tbody>\n",
       "</table>\n",
       "</div>"
      ],
      "text/plain": [
       "             VoterID        VoterName RelationName\n",
       "0  UP/85/421/0042622         Mahajabi     Dilashad\n",
       "1  UP/85/421/0042363      Jalaluddeen    Nasir Ali\n",
       "2  UP/85/421/0042362       Aurangajeb    Nasir Ali\n",
       "3         BQW1036607  Shahina Praveen   Aurangajeb\n",
       "4         BQW1036581          Shajiya      Dilshad"
      ]
     },
     "execution_count": 5,
     "metadata": {},
     "output_type": "execute_result"
    }
   ],
   "source": [
    "df.head()"
   ]
  },
  {
   "cell_type": "code",
   "execution_count": 6,
   "metadata": {},
   "outputs": [],
   "source": [
    "v = []\n",
    "\n",
    "for i in df[\"VoterName\"]:\n",
    "    i = i.split()\n",
    "    a = list(dict.fromkeys(i))\n",
    "    a= list(map(lambda x: x.replace('\\u200d',''),a))\n",
    "    a = ' '.join(a)\n",
    "    a = \" \".join(a.split())\n",
    "    a = a.title()\n",
    "    v.append(a)\n",
    "    \n",
    "df['VoterName'] = v"
   ]
  },
  {
   "cell_type": "code",
   "execution_count": 7,
   "metadata": {},
   "outputs": [],
   "source": [
    "r = []\n",
    "\n",
    "for i in df[\"RelationName\"]:\n",
    "    i = i.split()\n",
    "    a = list(dict.fromkeys(i))\n",
    "    a = list(map(lambda x: x.replace('\\u200d',''),a))\n",
    "    a = ' '.join(a)\n",
    "    a = \" \".join(a.split())\n",
    "    a = a.title()\n",
    "    r.append(a)\n",
    "    \n",
    "df['RelationName'] = r"
   ]
  },
  {
   "cell_type": "code",
   "execution_count": 8,
   "metadata": {},
   "outputs": [
    {
     "data": {
      "text/html": [
       "<div>\n",
       "<style scoped>\n",
       "    .dataframe tbody tr th:only-of-type {\n",
       "        vertical-align: middle;\n",
       "    }\n",
       "\n",
       "    .dataframe tbody tr th {\n",
       "        vertical-align: top;\n",
       "    }\n",
       "\n",
       "    .dataframe thead th {\n",
       "        text-align: right;\n",
       "    }\n",
       "</style>\n",
       "<table border=\"1\" class=\"dataframe\">\n",
       "  <thead>\n",
       "    <tr style=\"text-align: right;\">\n",
       "      <th></th>\n",
       "      <th>VoterID</th>\n",
       "      <th>VoterName</th>\n",
       "      <th>RelationName</th>\n",
       "    </tr>\n",
       "  </thead>\n",
       "  <tbody>\n",
       "    <tr>\n",
       "      <th>0</th>\n",
       "      <td>UP/85/421/0042622</td>\n",
       "      <td>Mahajabi</td>\n",
       "      <td>Dilashad</td>\n",
       "    </tr>\n",
       "    <tr>\n",
       "      <th>1</th>\n",
       "      <td>UP/85/421/0042363</td>\n",
       "      <td>Jalaluddeen</td>\n",
       "      <td>Nasir Ali</td>\n",
       "    </tr>\n",
       "    <tr>\n",
       "      <th>2</th>\n",
       "      <td>UP/85/421/0042362</td>\n",
       "      <td>Aurangajeb</td>\n",
       "      <td>Nasir Ali</td>\n",
       "    </tr>\n",
       "    <tr>\n",
       "      <th>3</th>\n",
       "      <td>BQW1036607</td>\n",
       "      <td>Shahina Praveen</td>\n",
       "      <td>Aurangajeb</td>\n",
       "    </tr>\n",
       "    <tr>\n",
       "      <th>4</th>\n",
       "      <td>BQW1036581</td>\n",
       "      <td>Shajiya</td>\n",
       "      <td>Dilshad</td>\n",
       "    </tr>\n",
       "  </tbody>\n",
       "</table>\n",
       "</div>"
      ],
      "text/plain": [
       "             VoterID        VoterName RelationName\n",
       "0  UP/85/421/0042622         Mahajabi     Dilashad\n",
       "1  UP/85/421/0042363      Jalaluddeen    Nasir Ali\n",
       "2  UP/85/421/0042362       Aurangajeb    Nasir Ali\n",
       "3         BQW1036607  Shahina Praveen   Aurangajeb\n",
       "4         BQW1036581          Shajiya      Dilshad"
      ]
     },
     "execution_count": 8,
     "metadata": {},
     "output_type": "execute_result"
    }
   ],
   "source": [
    "df.head()"
   ]
  },
  {
   "cell_type": "code",
   "execution_count": 9,
   "metadata": {},
   "outputs": [],
   "source": [
    "df.to_sql('VoterID_UK', engine, if_exists='replace', index=False)"
   ]
  }
 ],
 "metadata": {
  "kernelspec": {
   "display_name": "Python 3",
   "language": "python",
   "name": "python3"
  },
  "language_info": {
   "codemirror_mode": {
    "name": "ipython",
    "version": 3
   },
   "file_extension": ".py",
   "mimetype": "text/x-python",
   "name": "python",
   "nbconvert_exporter": "python",
   "pygments_lexer": "ipython3",
   "version": "3.7.4"
  }
 },
 "nbformat": 4,
 "nbformat_minor": 2
}
